{
 "cells": [
  {
   "cell_type": "code",
   "execution_count": 17,
   "metadata": {},
   "outputs": [],
   "source": [
    "\"\"\"Arxiv client tools.\"\"\"\n",
    "\n",
    "from __future__ import annotations\n",
    "\n",
    "import io\n",
    "import re\n",
    "import ssl\n",
    "import tempfile\n",
    "from typing import Iterable, cast\n",
    "\n",
    "import fitz\n",
    "from arxiv import Client as _ArxivClient\n",
    "from arxiv import Result as ArxivResult\n",
    "from arxiv import Search as ArxivSearch\n",
    "from more_itertools import flatten, unique_everseen\n",
    "from pydantic import AnyHttpUrl, BaseModel\n",
    "\n",
    "\n",
    "class Paper(BaseModel):\n",
    "    title: str\n",
    "    text: str\n",
    "    url: AnyHttpUrl\n",
    "    references: list[Paper] | None = None\n",
    "\n",
    "    def flatten(self) -> list[Paper]:\n",
    "        papers = [self]\n",
    "        if self.references:\n",
    "            for paper in self.references:\n",
    "                papers.extend(paper.flatten())\n",
    "        return papers\n",
    "\n",
    "\n",
    "class ArxivClient:\n",
    "\n",
    "    def __init__(self) -> None:\n",
    "        self.client = _ArxivClient()\n",
    "        self.ensure_ssl_verified()\n",
    "\n",
    "    @staticmethod\n",
    "    def ensure_ssl_verified() -> None:\n",
    "        ssl._create_default_https_context = ssl._create_unverified_context\n",
    "\n",
    "    def search_by_url(self, id_list: list[str]) -> Iterable[ArxivResult]:\n",
    "        search = ArxivSearch(id_list=id_list)\n",
    "        yield from self.client.results(search=search)\n",
    "\n",
    "    def search_by_query(self, queries: Iterable[str]) -> Iterable[ArxivResult]:\n",
    "        for query in queries:\n",
    "            search = ArxivSearch(query=query, max_results=1)\n",
    "            yield from self.client.results(search=search)\n",
    "\n",
    "    @staticmethod\n",
    "    def extract_id(url: str) -> str | None:\n",
    "        match = re.search(r\"(\\d{4}\\.\\d{4,5})(v\\d+)?\", url)\n",
    "        return match.group(1) if match else None\n",
    "\n",
    "    @staticmethod\n",
    "    def parse_references(text: str) -> list[str]:\n",
    "        arxiv_urls = re.findall(r\"(https?://arxiv\\.org/abs/\\d{4}\\.\\d{4,5}(v\\d+)?)\", text)\n",
    "        return [match[0] for match in arxiv_urls]\n",
    "\n",
    "    def fetch_papers_by_url(self, urls: Iterable[str]) -> list[Paper]:\n",
    "        id_list = list(filter(None, (self.extract_id(url) for url in urls)))\n",
    "\n",
    "        papers = []\n",
    "        for paper in self.search_by_url(id_list):\n",
    "            with tempfile.TemporaryDirectory() as temp_dir:\n",
    "                pdf_path = paper.download_pdf(dirpath=temp_dir)\n",
    "                doc = cast(fitz.Document, fitz.open(pdf_path))\n",
    "                text = \"\".join([page.get_text() for page in doc])  # type: ignore\n",
    "\n",
    "            papers.append(Paper(title=paper.title, text=text, url=paper.entry_id))  # type: ignore\n",
    "\n",
    "        return papers\n",
    "\n",
    "    def fetch_papers_with_references_by_url(self, urls: Iterable[str]) -> list[Paper]:\n",
    "        parent_papers = self.fetch_papers_by_url(urls)\n",
    "\n",
    "        for paper in parent_papers:\n",
    "            reference_urls = self.parse_references(paper.text)\n",
    "            if reference_urls:\n",
    "                referenced_papers = self.fetch_papers_by_url(reference_urls)\n",
    "                paper.references = referenced_papers\n",
    "\n",
    "        return parent_papers\n",
    "\n",
    "    def fetch_papers_by_query(self, queries: Iterable[str]) -> list[Paper]:\n",
    "        papers = []\n",
    "        for requested_query in queries:\n",
    "            results = self.search_by_query([requested_query])\n",
    "            for paper in results:\n",
    "                if paper.title.lower() != requested_query.lower():\n",
    "                    continue\n",
    "                with tempfile.TemporaryDirectory() as temp_dir:\n",
    "                    pdf_path = paper.download_pdf(dirpath=temp_dir)\n",
    "                    doc = cast(fitz.Document, fitz.open(pdf_path))\n",
    "                    text = \"\".join([page.get_text() for page in doc])  # type: ignore\n",
    "                papers.append(Paper(title=paper.title, text=text, url=paper.entry_id))  # type: ignore\n",
    "\n",
    "        return papers\n",
    "\n",
    "    def fetch_papers_with_references_by_query(self, queries: Iterable[str]) -> list[Paper]:\n",
    "        parent_papers = self.fetch_papers_by_query(queries)\n",
    "\n",
    "        for paper in parent_papers:\n",
    "            reference_urls = self.parse_references(paper.text)\n",
    "            if reference_urls:\n",
    "                referenced_papers = self.fetch_papers_by_url(reference_urls)\n",
    "                paper.references = referenced_papers\n",
    "\n",
    "        return parent_papers\n",
    "\n",
    "    def download_papers_by_url(self, urls: str | Iterable[str], save_dir: str) -> None:\n",
    "        id_list = list(filter(None, (self.extract_id(url) for url in urls)))\n",
    "\n",
    "        for paper in self.search_by_url(id_list):\n",
    "            filename = re.sub(r\"\\W+\", \"_\", paper.title) + \".pdf\"\n",
    "            paper.download_pdf(dirpath=save_dir, filename=filename)\n",
    "\n",
    "    def download_papers_by_query(self, queries: str | Iterable[str], save_dir: str) -> None:\n",
    "        for requested_query in queries:\n",
    "            results = self.search_by_query([requested_query])\n",
    "            for paper in results:\n",
    "                if paper.title.lower() != requested_query.lower():\n",
    "                    continue\n",
    "                filename = re.sub(r\"\\W+\", \"_\", paper.title) + \".pdf\"\n",
    "                paper.download_pdf(dirpath=save_dir, filename=filename)\n",
    "\n",
    "    def load_paper_as_file_by_url(self, url: str) -> io.BytesIO:\n",
    "        if not isinstance(url, str):\n",
    "            raise ValueError(\"Only one URL is allowed.\")\n",
    "        id_ = self.extract_id(url)\n",
    "        for paper in self.search_by_url([id_]):\n",
    "            with tempfile.TemporaryDirectory() as temp_dir:\n",
    "                pdf_path = paper.download_pdf(dirpath=temp_dir)\n",
    "                with open(pdf_path, \"rb\") as f:\n",
    "                    return io.BytesIO(f.read())\n",
    "\n",
    "\n",
    "arxiv_client = ArxivClient()\n",
    "\n",
    "\n",
    "def fetch_papers_by_url(urls: str | Iterable[str], parse_reference: bool = False) -> list[Paper]:\n",
    "    urls = flatten([urls])\n",
    "\n",
    "    if parse_reference:\n",
    "        return arxiv_client.fetch_papers_with_references_by_url(urls)\n",
    "\n",
    "    return arxiv_client.fetch_papers_by_url(urls)\n",
    "\n",
    "\n",
    "def fetch_papers_by_query(queries: str | Iterable[str], parse_reference: bool = False) -> list[Paper]:\n",
    "    queries = flatten([queries])\n",
    "\n",
    "    if parse_reference:\n",
    "        return arxiv_client.fetch_papers_with_references_by_query(queries)\n",
    "\n",
    "    return arxiv_client.fetch_papers_by_query(queries)\n",
    "\n",
    "\n",
    "def load_papers_by_url(urls: str | Iterable[str], save_dir: str = \"./\") -> None:\n",
    "    urls = flatten([urls])\n",
    "    arxiv_client.download_papers_by_url(urls, save_dir)\n",
    "\n",
    "\n",
    "def load_papers_by_query(queries: str | Iterable[str], save_dir: str = \"./\") -> None:\n",
    "    queries = flatten([queries])\n",
    "    arxiv_client.download_papers_by_query(queries, save_dir)\n",
    "\n",
    "\n",
    "def load_paper_as_file_by_url(urls: str) -> io.BytesIO:\n",
    "    return arxiv_client.load_paper_as_file_by_url(urls)\n",
    "\n",
    "\n",
    "def extract_refs(papers: Iterable[Paper]) -> list[Paper]:\n",
    "    return list(unique_everseen(flatten([paper.flatten() for paper in papers])))"
   ]
  },
  {
   "cell_type": "code",
   "execution_count": null,
   "metadata": {},
   "outputs": [
    {
     "name": "stdout",
     "output_type": "stream",
     "text": [
      "<_io.BytesIO object at 0x131686480>\n"
     ]
    }
   ],
   "source": [
    "import tempfile\n",
    "from unstructured.partition.pdf import partition_pdf, Element\n",
    "\n",
    "url = \"https://arxiv.org/abs/2410.18057\"\n",
    "file = load_paper_as_file_by_url(url)\n",
    "print(file)\n",
    "\n",
    "elements = partition_pdf(\n",
    "    file=file,\n",
    "    strategy=\"hi_res\",\n",
    "    infer_table_structure=True,\n",
    "    extract_images_in_pdf=True,\n",
    "    extract_image_block_types=[\"Image\", \"Table\"],\n",
    "    extract_image_block_to_payload=False,\n",
    "    extract_image_block_output_dir=tempfile.mkdtemp(),\n",
    ")\n",
    "# with tempfile.TemporaryDirectory() as tmp_dir:\n",
    "# download_papers_by_url(urls=urls, save_dir=tmp_dir)\n",
    "\n",
    "class PDFExtractor:\n",
    "\n",
    "    def __init__(self):\n",
    "        self.output_dir = tempfile.mkdtemp()\n",
    "        \n",
    "    def partition(self, file: io.BytesIO) -> list[Element]:\n",
    "        return partition_pdf(\n",
    "            file=file,\n",
    "            strategy=\"hi_res\",\n",
    "            infer_table_structure=True,\n",
    "            extract_images_in_pdf=True,\n",
    "            extract_image_block_types=[\"Image\", \"Table\"],\n",
    "            extract_image_block_to_payload=False,\n",
    "            extract_image_block_output_dir=self.output_dir,\n",
    "        )\n",
    "        \n",
    "    def run(self, file: io.BytesIO) -> None:\n",
    "        elements = self.partition(file=file)\n"
   ]
  },
  {
   "cell_type": "code",
   "execution_count": 19,
   "metadata": {},
   "outputs": [
    {
     "data": {
      "application/vnd.plotly.v1+json": {
       "config": {
        "plotlyServerURL": "https://plot.ly"
       },
       "data": [
        {
         "source": "data:image/png;base64,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",
         "type": "image"
        }
       ],
       "layout": {
        "template": {
         "data": {
          "bar": [
           {
            "error_x": {
             "color": "#2a3f5f"
            },
            "error_y": {
             "color": "#2a3f5f"
            },
            "marker": {
             "line": {
              "color": "#E5ECF6",
              "width": 0.5
             },
             "pattern": {
              "fillmode": "overlay",
              "size": 10,
              "solidity": 0.2
             }
            },
            "type": "bar"
           }
          ],
          "barpolar": [
           {
            "marker": {
             "line": {
              "color": "#E5ECF6",
              "width": 0.5
             },
             "pattern": {
              "fillmode": "overlay",
              "size": 10,
              "solidity": 0.2
             }
            },
            "type": "barpolar"
           }
          ],
          "carpet": [
           {
            "aaxis": {
             "endlinecolor": "#2a3f5f",
             "gridcolor": "white",
             "linecolor": "white",
             "minorgridcolor": "white",
             "startlinecolor": "#2a3f5f"
            },
            "baxis": {
             "endlinecolor": "#2a3f5f",
             "gridcolor": "white",
             "linecolor": "white",
             "minorgridcolor": "white",
             "startlinecolor": "#2a3f5f"
            },
            "type": "carpet"
           }
          ],
          "choropleth": [
           {
            "colorbar": {
             "outlinewidth": 0,
             "ticks": ""
            },
            "type": "choropleth"
           }
          ],
          "contour": [
           {
            "colorbar": {
             "outlinewidth": 0,
             "ticks": ""
            },
            "colorscale": [
             [
              0,
              "#0d0887"
             ],
             [
              0.1111111111111111,
              "#46039f"
             ],
             [
              0.2222222222222222,
              "#7201a8"
             ],
             [
              0.3333333333333333,
              "#9c179e"
             ],
             [
              0.4444444444444444,
              "#bd3786"
             ],
             [
              0.5555555555555556,
              "#d8576b"
             ],
             [
              0.6666666666666666,
              "#ed7953"
             ],
             [
              0.7777777777777778,
              "#fb9f3a"
             ],
             [
              0.8888888888888888,
              "#fdca26"
             ],
             [
              1,
              "#f0f921"
             ]
            ],
            "type": "contour"
           }
          ],
          "contourcarpet": [
           {
            "colorbar": {
             "outlinewidth": 0,
             "ticks": ""
            },
            "type": "contourcarpet"
           }
          ],
          "heatmap": [
           {
            "colorbar": {
             "outlinewidth": 0,
             "ticks": ""
            },
            "colorscale": [
             [
              0,
              "#0d0887"
             ],
             [
              0.1111111111111111,
              "#46039f"
             ],
             [
              0.2222222222222222,
              "#7201a8"
             ],
             [
              0.3333333333333333,
              "#9c179e"
             ],
             [
              0.4444444444444444,
              "#bd3786"
             ],
             [
              0.5555555555555556,
              "#d8576b"
             ],
             [
              0.6666666666666666,
              "#ed7953"
             ],
             [
              0.7777777777777778,
              "#fb9f3a"
             ],
             [
              0.8888888888888888,
              "#fdca26"
             ],
             [
              1,
              "#f0f921"
             ]
            ],
            "type": "heatmap"
           }
          ],
          "heatmapgl": [
           {
            "colorbar": {
             "outlinewidth": 0,
             "ticks": ""
            },
            "colorscale": [
             [
              0,
              "#0d0887"
             ],
             [
              0.1111111111111111,
              "#46039f"
             ],
             [
              0.2222222222222222,
              "#7201a8"
             ],
             [
              0.3333333333333333,
              "#9c179e"
             ],
             [
              0.4444444444444444,
              "#bd3786"
             ],
             [
              0.5555555555555556,
              "#d8576b"
             ],
             [
              0.6666666666666666,
              "#ed7953"
             ],
             [
              0.7777777777777778,
              "#fb9f3a"
             ],
             [
              0.8888888888888888,
              "#fdca26"
             ],
             [
              1,
              "#f0f921"
             ]
            ],
            "type": "heatmapgl"
           }
          ],
          "histogram": [
           {
            "marker": {
             "pattern": {
              "fillmode": "overlay",
              "size": 10,
              "solidity": 0.2
             }
            },
            "type": "histogram"
           }
          ],
          "histogram2d": [
           {
            "colorbar": {
             "outlinewidth": 0,
             "ticks": ""
            },
            "colorscale": [
             [
              0,
              "#0d0887"
             ],
             [
              0.1111111111111111,
              "#46039f"
             ],
             [
              0.2222222222222222,
              "#7201a8"
             ],
             [
              0.3333333333333333,
              "#9c179e"
             ],
             [
              0.4444444444444444,
              "#bd3786"
             ],
             [
              0.5555555555555556,
              "#d8576b"
             ],
             [
              0.6666666666666666,
              "#ed7953"
             ],
             [
              0.7777777777777778,
              "#fb9f3a"
             ],
             [
              0.8888888888888888,
              "#fdca26"
             ],
             [
              1,
              "#f0f921"
             ]
            ],
            "type": "histogram2d"
           }
          ],
          "histogram2dcontour": [
           {
            "colorbar": {
             "outlinewidth": 0,
             "ticks": ""
            },
            "colorscale": [
             [
              0,
              "#0d0887"
             ],
             [
              0.1111111111111111,
              "#46039f"
             ],
             [
              0.2222222222222222,
              "#7201a8"
             ],
             [
              0.3333333333333333,
              "#9c179e"
             ],
             [
              0.4444444444444444,
              "#bd3786"
             ],
             [
              0.5555555555555556,
              "#d8576b"
             ],
             [
              0.6666666666666666,
              "#ed7953"
             ],
             [
              0.7777777777777778,
              "#fb9f3a"
             ],
             [
              0.8888888888888888,
              "#fdca26"
             ],
             [
              1,
              "#f0f921"
             ]
            ],
            "type": "histogram2dcontour"
           }
          ],
          "mesh3d": [
           {
            "colorbar": {
             "outlinewidth": 0,
             "ticks": ""
            },
            "type": "mesh3d"
           }
          ],
          "parcoords": [
           {
            "line": {
             "colorbar": {
              "outlinewidth": 0,
              "ticks": ""
             }
            },
            "type": "parcoords"
           }
          ],
          "pie": [
           {
            "automargin": true,
            "type": "pie"
           }
          ],
          "scatter": [
           {
            "fillpattern": {
             "fillmode": "overlay",
             "size": 10,
             "solidity": 0.2
            },
            "type": "scatter"
           }
          ],
          "scatter3d": [
           {
            "line": {
             "colorbar": {
              "outlinewidth": 0,
              "ticks": ""
             }
            },
            "marker": {
             "colorbar": {
              "outlinewidth": 0,
              "ticks": ""
             }
            },
            "type": "scatter3d"
           }
          ],
          "scattercarpet": [
           {
            "marker": {
             "colorbar": {
              "outlinewidth": 0,
              "ticks": ""
             }
            },
            "type": "scattercarpet"
           }
          ],
          "scattergeo": [
           {
            "marker": {
             "colorbar": {
              "outlinewidth": 0,
              "ticks": ""
             }
            },
            "type": "scattergeo"
           }
          ],
          "scattergl": [
           {
            "marker": {
             "colorbar": {
              "outlinewidth": 0,
              "ticks": ""
             }
            },
            "type": "scattergl"
           }
          ],
          "scattermapbox": [
           {
            "marker": {
             "colorbar": {
              "outlinewidth": 0,
              "ticks": ""
             }
            },
            "type": "scattermapbox"
           }
          ],
          "scatterpolar": [
           {
            "marker": {
             "colorbar": {
              "outlinewidth": 0,
              "ticks": ""
             }
            },
            "type": "scatterpolar"
           }
          ],
          "scatterpolargl": [
           {
            "marker": {
             "colorbar": {
              "outlinewidth": 0,
              "ticks": ""
             }
            },
            "type": "scatterpolargl"
           }
          ],
          "scatterternary": [
           {
            "marker": {
             "colorbar": {
              "outlinewidth": 0,
              "ticks": ""
             }
            },
            "type": "scatterternary"
           }
          ],
          "surface": [
           {
            "colorbar": {
             "outlinewidth": 0,
             "ticks": ""
            },
            "colorscale": [
             [
              0,
              "#0d0887"
             ],
             [
              0.1111111111111111,
              "#46039f"
             ],
             [
              0.2222222222222222,
              "#7201a8"
             ],
             [
              0.3333333333333333,
              "#9c179e"
             ],
             [
              0.4444444444444444,
              "#bd3786"
             ],
             [
              0.5555555555555556,
              "#d8576b"
             ],
             [
              0.6666666666666666,
              "#ed7953"
             ],
             [
              0.7777777777777778,
              "#fb9f3a"
             ],
             [
              0.8888888888888888,
              "#fdca26"
             ],
             [
              1,
              "#f0f921"
             ]
            ],
            "type": "surface"
           }
          ],
          "table": [
           {
            "cells": {
             "fill": {
              "color": "#EBF0F8"
             },
             "line": {
              "color": "white"
             }
            },
            "header": {
             "fill": {
              "color": "#C8D4E3"
             },
             "line": {
              "color": "white"
             }
            },
            "type": "table"
           }
          ]
         },
         "layout": {
          "annotationdefaults": {
           "arrowcolor": "#2a3f5f",
           "arrowhead": 0,
           "arrowwidth": 1
          },
          "autotypenumbers": "strict",
          "coloraxis": {
           "colorbar": {
            "outlinewidth": 0,
            "ticks": ""
           }
          },
          "colorscale": {
           "diverging": [
            [
             0,
             "#8e0152"
            ],
            [
             0.1,
             "#c51b7d"
            ],
            [
             0.2,
             "#de77ae"
            ],
            [
             0.3,
             "#f1b6da"
            ],
            [
             0.4,
             "#fde0ef"
            ],
            [
             0.5,
             "#f7f7f7"
            ],
            [
             0.6,
             "#e6f5d0"
            ],
            [
             0.7,
             "#b8e186"
            ],
            [
             0.8,
             "#7fbc41"
            ],
            [
             0.9,
             "#4d9221"
            ],
            [
             1,
             "#276419"
            ]
           ],
           "sequential": [
            [
             0,
             "#0d0887"
            ],
            [
             0.1111111111111111,
             "#46039f"
            ],
            [
             0.2222222222222222,
             "#7201a8"
            ],
            [
             0.3333333333333333,
             "#9c179e"
            ],
            [
             0.4444444444444444,
             "#bd3786"
            ],
            [
             0.5555555555555556,
             "#d8576b"
            ],
            [
             0.6666666666666666,
             "#ed7953"
            ],
            [
             0.7777777777777778,
             "#fb9f3a"
            ],
            [
             0.8888888888888888,
             "#fdca26"
            ],
            [
             1,
             "#f0f921"
            ]
           ],
           "sequentialminus": [
            [
             0,
             "#0d0887"
            ],
            [
             0.1111111111111111,
             "#46039f"
            ],
            [
             0.2222222222222222,
             "#7201a8"
            ],
            [
             0.3333333333333333,
             "#9c179e"
            ],
            [
             0.4444444444444444,
             "#bd3786"
            ],
            [
             0.5555555555555556,
             "#d8576b"
            ],
            [
             0.6666666666666666,
             "#ed7953"
            ],
            [
             0.7777777777777778,
             "#fb9f3a"
            ],
            [
             0.8888888888888888,
             "#fdca26"
            ],
            [
             1,
             "#f0f921"
            ]
           ]
          },
          "colorway": [
           "#636efa",
           "#EF553B",
           "#00cc96",
           "#ab63fa",
           "#FFA15A",
           "#19d3f3",
           "#FF6692",
           "#B6E880",
           "#FF97FF",
           "#FECB52"
          ],
          "font": {
           "color": "#2a3f5f"
          },
          "geo": {
           "bgcolor": "white",
           "lakecolor": "white",
           "landcolor": "#E5ECF6",
           "showlakes": true,
           "showland": true,
           "subunitcolor": "white"
          },
          "hoverlabel": {
           "align": "left"
          },
          "hovermode": "closest",
          "mapbox": {
           "style": "light"
          },
          "paper_bgcolor": "white",
          "plot_bgcolor": "#E5ECF6",
          "polar": {
           "angularaxis": {
            "gridcolor": "white",
            "linecolor": "white",
            "ticks": ""
           },
           "bgcolor": "#E5ECF6",
           "radialaxis": {
            "gridcolor": "white",
            "linecolor": "white",
            "ticks": ""
           }
          },
          "scene": {
           "xaxis": {
            "backgroundcolor": "#E5ECF6",
            "gridcolor": "white",
            "gridwidth": 2,
            "linecolor": "white",
            "showbackground": true,
            "ticks": "",
            "zerolinecolor": "white"
           },
           "yaxis": {
            "backgroundcolor": "#E5ECF6",
            "gridcolor": "white",
            "gridwidth": 2,
            "linecolor": "white",
            "showbackground": true,
            "ticks": "",
            "zerolinecolor": "white"
           },
           "zaxis": {
            "backgroundcolor": "#E5ECF6",
            "gridcolor": "white",
            "gridwidth": 2,
            "linecolor": "white",
            "showbackground": true,
            "ticks": "",
            "zerolinecolor": "white"
           }
          },
          "shapedefaults": {
           "line": {
            "color": "#2a3f5f"
           }
          },
          "ternary": {
           "aaxis": {
            "gridcolor": "white",
            "linecolor": "white",
            "ticks": ""
           },
           "baxis": {
            "gridcolor": "white",
            "linecolor": "white",
            "ticks": ""
           },
           "bgcolor": "#E5ECF6",
           "caxis": {
            "gridcolor": "white",
            "linecolor": "white",
            "ticks": ""
           }
          },
          "title": {
           "x": 0.05
          },
          "xaxis": {
           "automargin": true,
           "gridcolor": "white",
           "linecolor": "white",
           "ticks": "",
           "title": {
            "standoff": 15
           },
           "zerolinecolor": "white",
           "zerolinewidth": 2
          },
          "yaxis": {
           "automargin": true,
           "gridcolor": "white",
           "linecolor": "white",
           "ticks": "",
           "title": {
            "standoff": 15
           },
           "zerolinecolor": "white",
           "zerolinewidth": 2
          }
         }
        },
        "title": {
         "text": "Q: What is happening in Q: What is happening in the image? the image? A: Jaime Vasquez, a true crime author, poses for a portrait. A: Takashi Nakamura, with a red rose and Mount Fuji ‘in the background. Real world Real faces Q: The name of person on Q: In what direction are the photo is... these cats eyes pointed 2 A: Taylor swift. ores? ; A: The cat is looking upwards."
        }
       }
      }
     },
     "metadata": {},
     "output_type": "display_data"
    }
   ],
   "source": [
    "import os\n",
    "from pathlib import Path\n",
    "from dotenv import load_dotenv\n",
    "import base64\n",
    "import openai\n",
    "import plotly.graph_objects as go\n",
    "from PIL import Image\n",
    "from io import BytesIO\n",
    "from langfuse.openai import OpenAI\n",
    "\n",
    "llm = OpenAI(\n",
    "    api_key=os.getenv(\"OPENAI_API_KEY\"),\n",
    "    base_url=os.getenv(\"OPENAI_BASE_URL\"),\n",
    ")\n",
    "\n",
    "\n",
    "def encode_image(image_path):\n",
    "    with open(image_path, \"rb\") as image_file:\n",
    "        return base64.b64encode(image_file.read()).decode(\"utf-8\")\n",
    "\n",
    "\n",
    "for element in elements:\n",
    "    element_dict = element.to_dict()\n",
    "    type_ = element_dict[\"type\"]\n",
    "    text = element_dict[\"text\"]\n",
    "    if type_ == \"Image\" or type_ == \"Table\":\n",
    "        img_path = element_dict[\"metadata\"][\"image_path\"]\n",
    "        base64_img = encode_image(img_path)\n",
    "        \n",
    "        fig = go.Figure(go.Image(source=\"data:image/png;base64,\" + base64_img))\n",
    "        fig.update_layout(title=text)\n",
    "        fig.show()\n",
    "\n",
    "        # response = openai.chat.completions.create(\n",
    "        #     model=\"gpt-4o-mini\",\n",
    "        #     messages=[\n",
    "        #         {\n",
    "        #             \"role\": \"user\",\n",
    "        #             \"content\": [\n",
    "        #                 {\n",
    "        #                     \"type\": \"text\",\n",
    "        #                     \"text\": \"Given the image of an paper, explain the details of the image.\",\n",
    "        #                 },\n",
    "        #                 {\n",
    "        #                     \"type\": \"image_url\",\n",
    "        #                     \"image_url\": {\"url\": f\"data:image/jpeg;base64,{base64_img}\"},\n",
    "        #                 },\n",
    "        #             ],\n",
    "        #         }\n",
    "        #     ],\n",
    "        # )\n",
    "        # print(response.choices[0].message.content)\n",
    "        break"
   ]
  },
  {
   "cell_type": "code",
   "execution_count": 14,
   "metadata": {},
   "outputs": [
    {
     "data": {
      "text/plain": [
       "\"The image contains a grid with four sections, each featuring a different concept related to visual contexts. \\n\\n1. **Retain**: This section poses a question about the image of an individual likely posing for a portrait, with a focus on a specific theme, possibly involving a notable figure in literature.\\n\\n2. **Forget**: Here, another question relates to an image that features a recognizable landscape, notably Mount Fuji, along with a subject holding a flower. The description indicates a cultural or geographical significance.\\n\\n3. **Real Faces**: This part questions the identity of a person in the image, suggesting a well-known personality from the entertainment industry. \\n\\n4. **Real World**: It features a question about a cat's appearance, focusing on the direction of its gaze, making it more relatable to everyday life and pets.\\n\\nEach section emphasizes different aspects of recognition and identification based on visual cues.\""
      ]
     },
     "execution_count": 14,
     "metadata": {},
     "output_type": "execute_result"
    }
   ],
   "source": [
    "response.choices[0].message.content"
   ]
  },
  {
   "cell_type": "code",
   "execution_count": null,
   "metadata": {},
   "outputs": [],
   "source": []
  }
 ],
 "metadata": {
  "kernelspec": {
   "display_name": ".venv",
   "language": "python",
   "name": "python3"
  },
  "language_info": {
   "codemirror_mode": {
    "name": "ipython",
    "version": 3
   },
   "file_extension": ".py",
   "mimetype": "text/x-python",
   "name": "python",
   "nbconvert_exporter": "python",
   "pygments_lexer": "ipython3",
   "version": "3.12.3"
  }
 },
 "nbformat": 4,
 "nbformat_minor": 2
}
