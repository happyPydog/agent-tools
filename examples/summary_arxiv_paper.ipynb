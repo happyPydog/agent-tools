{
 "cells": [
  {
   "metadata": {},
   "cell_type": "markdown",
   "source": [
    "# Summary of arXiv papers\n",
    "\n",
    "**Description**:  This notebook shows how to use the arXiv client tools to fetch the content of papers and then pass it to the summarizer to get a summary of the paper."
   ],
   "id": "9a7660d33272805e"
  },
  {
   "metadata": {
    "ExecuteTime": {
     "end_time": "2024-10-19T14:48:42.871205Z",
     "start_time": "2024-10-19T14:48:42.847077Z"
    }
   },
   "cell_type": "code",
   "source": [
    "import sys\n",
    "sys.path.append(\"../\")\n",
    "\n",
    "import pandas as pd\n",
    "\n",
    "df = pd.read_csv(\"../data/EMNLP_Processed_Papers_With_Label_Cybersecurity.csv\")\n",
    "df.head()"
   ],
   "id": "a003645d5534986",
   "outputs": [
    {
     "data": {
      "text/plain": [
       "  Accepted To  Paper ID Oral \\nPoster  \\\n",
       "0        Main         9       VPoster   \n",
       "1        Main        48       VPoster   \n",
       "2        Main        52       VPoster   \n",
       "3        Main        66       VPoster   \n",
       "4        Main        72       VPoster   \n",
       "\n",
       "                                         Track Theme  \\\n",
       "0  Computational Social Science and Cultural Anal...   \n",
       "1              Information Retrieval and Text Mining   \n",
       "2                   Dialogue and Interactive Systems   \n",
       "3                       Low-resource Methods for NLP   \n",
       "4  Computational Social Science and Cultural Anal...   \n",
       "\n",
       "                                               Title  \\\n",
       "0  LLM-Based Agent Society Investigation: Collabo...   \n",
       "1  Consolidating Ranking and Relevance Prediction...   \n",
       "2  Strength Lies in Differences! Towards Effectiv...   \n",
       "3  Clustering and Ranking: Diversity-preserved In...   \n",
       "4  On Fake News Detection with LLM Enhanced Seman...   \n",
       "\n",
       "                                       Authors Names Presenter first name  \\\n",
       "0  Yihuai Lan(~Yihuai_Lan1),Zhiqiang Hu(~Zhiqiang...                  Hao   \n",
       "1  Le Yan(~Le_Yan1),Zhen Qin(~Zhen_Qin5),Honglei ...                   Le   \n",
       "2  Tong Zhang(~Tong_Zhang22),Chen Huang(~Chen_Hua...                 Tong   \n",
       "3  Yuan Ge(~Yuan_Ge1),Yilun Liu(~Yilun_Liu2),Chi ...                 Yuan   \n",
       "4  Xiaoxiao Ma(~Xiaoxiao_Ma2),Yuchen Zhang(~Yuche...             Xiaoxiao   \n",
       "\n",
       "  Presenter last name  Session Sub-session (ex. ML 1, ML 2, etc.)  \\\n",
       "0                Wang  VPoster                                NaN   \n",
       "1                 Yan  VPoster                                NaN   \n",
       "2               Zhang  VPoster                                NaN   \n",
       "3                  Ge  VPoster                                NaN   \n",
       "4                  Ma  VPoster                                NaN   \n",
       "\n",
       "  Session time tags  \n",
       "0          NaN  NaN  \n",
       "1          NaN  NaN  \n",
       "2          NaN  NaN  \n",
       "3          NaN  NaN  \n",
       "4          NaN  NaN  "
      ],
      "text/html": [
       "<div>\n",
       "<style scoped>\n",
       "    .dataframe tbody tr th:only-of-type {\n",
       "        vertical-align: middle;\n",
       "    }\n",
       "\n",
       "    .dataframe tbody tr th {\n",
       "        vertical-align: top;\n",
       "    }\n",
       "\n",
       "    .dataframe thead th {\n",
       "        text-align: right;\n",
       "    }\n",
       "</style>\n",
       "<table border=\"1\" class=\"dataframe\">\n",
       "  <thead>\n",
       "    <tr style=\"text-align: right;\">\n",
       "      <th></th>\n",
       "      <th>Accepted To</th>\n",
       "      <th>Paper ID</th>\n",
       "      <th>Oral \\nPoster</th>\n",
       "      <th>Track Theme</th>\n",
       "      <th>Title</th>\n",
       "      <th>Authors Names</th>\n",
       "      <th>Presenter first name</th>\n",
       "      <th>Presenter last name</th>\n",
       "      <th>Session</th>\n",
       "      <th>Sub-session (ex. ML 1, ML 2, etc.)</th>\n",
       "      <th>Session time</th>\n",
       "      <th>tags</th>\n",
       "    </tr>\n",
       "  </thead>\n",
       "  <tbody>\n",
       "    <tr>\n",
       "      <th>0</th>\n",
       "      <td>Main</td>\n",
       "      <td>9</td>\n",
       "      <td>VPoster</td>\n",
       "      <td>Computational Social Science and Cultural Anal...</td>\n",
       "      <td>LLM-Based Agent Society Investigation: Collabo...</td>\n",
       "      <td>Yihuai Lan(~Yihuai_Lan1),Zhiqiang Hu(~Zhiqiang...</td>\n",
       "      <td>Hao</td>\n",
       "      <td>Wang</td>\n",
       "      <td>VPoster</td>\n",
       "      <td>NaN</td>\n",
       "      <td>NaN</td>\n",
       "      <td>NaN</td>\n",
       "    </tr>\n",
       "    <tr>\n",
       "      <th>1</th>\n",
       "      <td>Main</td>\n",
       "      <td>48</td>\n",
       "      <td>VPoster</td>\n",
       "      <td>Information Retrieval and Text Mining</td>\n",
       "      <td>Consolidating Ranking and Relevance Prediction...</td>\n",
       "      <td>Le Yan(~Le_Yan1),Zhen Qin(~Zhen_Qin5),Honglei ...</td>\n",
       "      <td>Le</td>\n",
       "      <td>Yan</td>\n",
       "      <td>VPoster</td>\n",
       "      <td>NaN</td>\n",
       "      <td>NaN</td>\n",
       "      <td>NaN</td>\n",
       "    </tr>\n",
       "    <tr>\n",
       "      <th>2</th>\n",
       "      <td>Main</td>\n",
       "      <td>52</td>\n",
       "      <td>VPoster</td>\n",
       "      <td>Dialogue and Interactive Systems</td>\n",
       "      <td>Strength Lies in Differences! Towards Effectiv...</td>\n",
       "      <td>Tong Zhang(~Tong_Zhang22),Chen Huang(~Chen_Hua...</td>\n",
       "      <td>Tong</td>\n",
       "      <td>Zhang</td>\n",
       "      <td>VPoster</td>\n",
       "      <td>NaN</td>\n",
       "      <td>NaN</td>\n",
       "      <td>NaN</td>\n",
       "    </tr>\n",
       "    <tr>\n",
       "      <th>3</th>\n",
       "      <td>Main</td>\n",
       "      <td>66</td>\n",
       "      <td>VPoster</td>\n",
       "      <td>Low-resource Methods for NLP</td>\n",
       "      <td>Clustering and Ranking: Diversity-preserved In...</td>\n",
       "      <td>Yuan Ge(~Yuan_Ge1),Yilun Liu(~Yilun_Liu2),Chi ...</td>\n",
       "      <td>Yuan</td>\n",
       "      <td>Ge</td>\n",
       "      <td>VPoster</td>\n",
       "      <td>NaN</td>\n",
       "      <td>NaN</td>\n",
       "      <td>NaN</td>\n",
       "    </tr>\n",
       "    <tr>\n",
       "      <th>4</th>\n",
       "      <td>Main</td>\n",
       "      <td>72</td>\n",
       "      <td>VPoster</td>\n",
       "      <td>Computational Social Science and Cultural Anal...</td>\n",
       "      <td>On Fake News Detection with LLM Enhanced Seman...</td>\n",
       "      <td>Xiaoxiao Ma(~Xiaoxiao_Ma2),Yuchen Zhang(~Yuche...</td>\n",
       "      <td>Xiaoxiao</td>\n",
       "      <td>Ma</td>\n",
       "      <td>VPoster</td>\n",
       "      <td>NaN</td>\n",
       "      <td>NaN</td>\n",
       "      <td>NaN</td>\n",
       "    </tr>\n",
       "  </tbody>\n",
       "</table>\n",
       "</div>"
      ]
     },
     "execution_count": 25,
     "metadata": {},
     "output_type": "execute_result"
    }
   ],
   "execution_count": 25
  },
  {
   "metadata": {
    "ExecuteTime": {
     "end_time": "2024-10-19T14:51:58.511182Z",
     "start_time": "2024-10-19T14:51:58.506918Z"
    }
   },
   "cell_type": "code",
   "source": [
    "filtered_df = df[df['tags'].str.contains('cybersecurity', na=False)]\n",
    "print(filtered_df.shape)"
   ],
   "id": "f7c28cae0fe6816f",
   "outputs": [
    {
     "name": "stdout",
     "output_type": "stream",
     "text": [
      "(96, 12)\n"
     ]
    }
   ],
   "execution_count": 31
  },
  {
   "metadata": {
    "ExecuteTime": {
     "end_time": "2024-10-19T14:52:05.177402Z",
     "start_time": "2024-10-19T14:52:05.174210Z"
    }
   },
   "cell_type": "code",
   "source": [
    "titles = filtered_df['Title'].tolist()\n",
    "print(titles[:5])"
   ],
   "id": "ee4c3175eb30402e",
   "outputs": [
    {
     "name": "stdout",
     "output_type": "stream",
     "text": [
      "['Adaptive Immune-based Sound-Shape Code Substitution for Adversarial Chinese Text Attacks', 'Cross-Domain Audio Deepfake Detection: Dataset and Analysis', 'Universal Vulnerabilities in Large Language Models: Backdoor Attacks for In-context Learning', 'Applying Contrastive Learning to Code Vulnerability Type Classification', 'BaitAttack: Alleviating Intention Shift in Jailbreak Attacks via Adaptive Bait Crafting']\n"
     ]
    }
   ],
   "execution_count": 32
  },
  {
   "metadata": {
    "ExecuteTime": {
     "end_time": "2024-10-19T15:05:00.898180Z",
     "start_time": "2024-10-19T14:54:48.149104Z"
    }
   },
   "cell_type": "code",
   "source": "papers = fetch_papers_by_query(titles)",
   "id": "3695df3013a2c5a",
   "outputs": [
    {
     "name": "stderr",
     "output_type": "stream",
     "text": [
      "IOPub data rate exceeded.\n",
      "The Jupyter server will temporarily stop sending output\n",
      "to the client in order to avoid crashing it.\n",
      "To change this limit, set the config variable\n",
      "`--ServerApp.iopub_data_rate_limit`.\n",
      "\n",
      "Current values:\n",
      "ServerApp.iopub_data_rate_limit=1000000.0 (bytes/sec)\n",
      "ServerApp.rate_limit_window=3.0 (secs)\n",
      "\n"
     ]
    }
   ],
   "execution_count": 38
  },
  {
   "metadata": {
    "ExecuteTime": {
     "end_time": "2024-10-19T15:11:08.182406Z",
     "start_time": "2024-10-19T15:11:08.179571Z"
    }
   },
   "cell_type": "code",
   "source": [
    "for paper in papers:\n",
    "    print(paper.title)\n",
    "    print(\"\\n\")"
   ],
   "id": "caadfac2a687ea23",
   "outputs": [
    {
     "name": "stdout",
     "output_type": "stream",
     "text": [
      "Universal Vulnerabilities in Large Language Models: Backdoor Attacks for In-context Learning\n",
      "\n",
      "\n",
      "Distract Large Language Models for Automatic Jailbreak Attack\n",
      "\n",
      "\n",
      "FLIRT: Feedback Loop In-context Red Teaming\n",
      "\n",
      "\n",
      "LLM4Decompile: Decompiling Binary Code with Large Language Models\n",
      "\n",
      "\n",
      "StyleRemix: Interpretable Authorship Obfuscation via Distillation and Perturbation of Style Elements\n",
      "\n",
      "\n",
      "Order of Magnitude Speedups for LLM Membership Inference\n",
      "\n",
      "\n",
      "Seeing the Forest through the Trees: Data Leakage from Partial Transformer Gradients\n",
      "\n",
      "\n",
      "Safely Learning with Private Data: A Federated Learning Framework for Large Language Model\n",
      "\n",
      "\n",
      "Towards Understanding Jailbreak Attacks in LLMs: A Representation Space Analysis\n",
      "\n",
      "\n",
      "Is LLM-as-a-Judge Robust? Investigating Universal Adversarial Attacks on Zero-shot LLM Assessment\n",
      "\n",
      "\n",
      "Muting Whisper: A Universal Acoustic Adversarial Attack on Speech Foundation Models\n",
      "\n",
      "\n",
      "KnowledgeSG: Privacy-Preserving Synthetic Text Generation with Knowledge Distillation from Server\n",
      "\n",
      "\n",
      "The Best Defense is Attack: Repairing Semantics in Textual Adversarial Examples\n",
      "\n",
      "\n",
      "ReCaLL: Membership Inference via Relative Conditional Log-Likelihoods\n",
      "\n",
      "\n",
      "Red Teaming Language Models for Processing Contradictory Dialogues\n",
      "\n",
      "\n",
      "Defending Against Social Engineering Attacks in the Age of LLMs\n",
      "\n",
      "\n",
      "Large Language Models Are Involuntary Truth-Tellers: Exploiting Fallacy Failure for Jailbreak Attacks\n",
      "\n",
      "\n",
      "Holistic Automated Red Teaming for Large Language Models through Top-Down Test Case Generation and Multi-turn Interaction\n",
      "\n",
      "\n",
      "SecCoder: Towards Generalizable and Robust Secure Code Generation\n",
      "\n",
      "\n",
      "MLLM-Protector: Ensuring MLLM's Safety without Hurting Performance\n",
      "\n",
      "\n",
      "From LLMs to MLLMs: Exploring the Landscape of Multimodal Jailbreaking\n",
      "\n",
      "\n",
      "Data Contamination Can Cross Language Barriers\n",
      "\n",
      "\n",
      "Jailbreaking LLMs with Arabic Transliteration and Arabizi\n",
      "\n",
      "\n",
      "Defending Jailbreak Prompts via In-Context Adversarial Game\n",
      "\n",
      "\n",
      "GPT-4 Jailbreaks Itself with Near-Perfect Success Using Self-Explanation\n",
      "\n",
      "\n",
      "Defending Large Language Models Against Jailbreak Attacks via Layer-specific Editing\n",
      "\n",
      "\n",
      "Immunization against harmful fine-tuning attacks\n",
      "\n",
      "\n",
      "MultiAgent Collaboration Attack: Investigating Adversarial Attacks in Large Language Model Collaborations via Debate\n",
      "\n",
      "\n",
      "Light-weight Fine-tuning Method for Defending Adversarial Noise in Pre-trained Medical Vision-Language Models\n",
      "\n",
      "\n",
      "Towards Effective Counter-Responses: Aligning Human Preferences with Strategies to Combat Online Trolling\n",
      "\n",
      "\n",
      "Impeding LLM-assisted Cheating in Introductory Programming Assignments via Adversarial Perturbation\n",
      "\n",
      "\n",
      "ASETF: A Novel Method for Jailbreak Attack on LLMs through Translate Suffix Embeddings\n",
      "\n",
      "\n",
      "GoldCoin: Grounding Large Language Models in Privacy Laws via Contextual Integrity Theory\n",
      "\n",
      "\n",
      "C3PA: An Open Dataset of Expert-Annotated and Regulation-Aware Privacy Policies to Enable Scalable Regulatory Compliance Audits\n",
      "\n",
      "\n",
      "Granular Privacy Control for Geolocation with Vision Language Models\n",
      "\n",
      "\n",
      "User Inference Attacks on Large Language Models\n",
      "\n",
      "\n",
      "Adapters Mixup: Mixing Parameter-Efficient Adapters to Enhance the Adversarial Robustness of Fine-tuned Pre-trained Text Classifiers\n",
      "\n",
      "\n",
      "FANTAstic SEquences and Where to Find Them: Faithful and Efficient API Call Generation through State-tracked Constrained Decoding and Reranking\n",
      "\n",
      "\n",
      "AutoDetect: Towards a Unified Framework for Automated Weakness Detection in Large Language Models\n",
      "\n",
      "\n",
      "ShieldLM: Empowering LLMs as Aligned, Customizable and Explainable Safety Detectors\n",
      "\n",
      "\n",
      "Multimodal Misinformation Detection by Learning from Synthetic Data with Multimodal LLMs\n",
      "\n",
      "\n",
      "Promoting Data and Model Privacy in Federated Learning through Quantized LoRA\n",
      "\n",
      "\n",
      "Code Membership Inference for Detecting Unauthorized Data Use in Code Pre-trained Language Models\n",
      "\n",
      "\n",
      "ToxiCraft: A Novel Framework for Synthetic Generation of Harmful Information\n",
      "\n",
      "\n",
      "mABC: multi-Agent Blockchain-Inspired Collaboration for root cause analysis in micro-services architecture\n",
      "\n",
      "\n",
      "Survival of the Safest: Towards Secure Prompt Optimization through Interleaved Multi-Objective Evolution\n",
      "\n",
      "\n"
     ]
    }
   ],
   "execution_count": 43
  },
  {
   "metadata": {
    "ExecuteTime": {
     "end_time": "2024-10-19T15:37:41.086674Z",
     "start_time": "2024-10-19T15:37:40.627729Z"
    }
   },
   "cell_type": "code",
   "source": [
    "import os\n",
    "from dotenv import load_dotenv\n",
    "from magentic import prompt\n",
    "from magentic.chat_model.openai_chat_model import OpenaiChatModel\n",
    "\n",
    "load_dotenv()\n",
    "\n",
    "llm = OpenaiChatModel(\n",
    "    api_key=os.getenv(\"OPENAI_API_KEY\"),\n",
    "    base_url=os.getenv(\"OPENAI_API_ENDPOINT\"),\n",
    "    api_type=\"openai\",\n",
    "    model=\"gpt-4o\",\n",
    "    temperature=0.0,\n",
    ")"
   ],
   "id": "66e2c913f54856fd",
   "outputs": [],
   "execution_count": 44
  },
  {
   "metadata": {},
   "cell_type": "code",
   "outputs": [],
   "execution_count": null,
   "source": "",
   "id": "4ed9e8da68c3e29a"
  }
 ],
 "metadata": {
  "kernelspec": {
   "display_name": "Python 3",
   "language": "python",
   "name": "python3"
  },
  "language_info": {
   "codemirror_mode": {
    "name": "ipython",
    "version": 2
   },
   "file_extension": ".py",
   "mimetype": "text/x-python",
   "name": "python",
   "nbconvert_exporter": "python",
   "pygments_lexer": "ipython2",
   "version": "2.7.6"
  }
 },
 "nbformat": 4,
 "nbformat_minor": 5
}
