{
 "cells": [
  {
   "cell_type": "code",
   "execution_count": 1,
   "metadata": {},
   "outputs": [
    {
     "data": {
      "text/plain": [
       "True"
      ]
     },
     "execution_count": 1,
     "metadata": {},
     "output_type": "execute_result"
    }
   ],
   "source": [
    "from dotenv import load_dotenv\n",
    "from rich import print\n",
    "\n",
    "from agent_tools.prompt_func import openai_prompt\n",
    "\n",
    "load_dotenv()"
   ]
  },
  {
   "cell_type": "code",
   "execution_count": 2,
   "metadata": {},
   "outputs": [
    {
     "data": {
      "text/html": [
       "<pre style=\"white-space:pre;overflow-x:auto;line-height:normal;font-family:Menlo,'DejaVu Sans Mono',consolas,'Courier New',monospace\">你好，世界！\n",
       "</pre>\n"
      ],
      "text/plain": [
       "你好，世界！\n"
      ]
     },
     "metadata": {},
     "output_type": "display_data"
    }
   ],
   "source": [
    "class Summarizer:\n",
    "    @openai_prompt(\n",
    "        (\"system\", \"You are a helpful assistant.\"),\n",
    "        (\"user\", \"Summary the given text in specific language.\"),\n",
    "        (\"user\", \"Text: {text}\"),\n",
    "        (\"user\", \"Language: {language}\"),\n",
    "    )\n",
    "    def summary_text(self, text: str, language: str) -> str: ...\n",
    "\n",
    "summarizer = Summarizer()\n",
    "print(summarizer.summary_text(\"Hello, World!\", language=\"Traditional Chinese\"))"
   ]
  },
  {
   "cell_type": "code",
   "execution_count": 3,
   "metadata": {},
   "outputs": [
    {
     "data": {
      "text/html": [
       "<pre style=\"white-space:pre;overflow-x:auto;line-height:normal;font-family:Menlo,'DejaVu Sans Mono',consolas,'Courier New',monospace\">摘要: 你好，世界！\n",
       "</pre>\n"
      ],
      "text/plain": [
       "摘要: 你好，世界！\n"
      ]
     },
     "metadata": {},
     "output_type": "display_data"
    }
   ],
   "source": [
    "@openai_prompt(\n",
    "    (\"system\", \"You are a helpful assistant.\"),\n",
    "    (\"user\", \"Summary the given text in specific language.\"),\n",
    "    (\"user\", \"Text: {text}\"),\n",
    "    (\"user\", \"Language: {language}\"),\n",
    ")\n",
    "def summary_text(text: str, language: str) -> str: ...\n",
    "\n",
    "\n",
    "print(summary_text(\"Hello, World!\", language=\"Traditional Chinese\"))"
   ]
  },
  {
   "cell_type": "code",
   "execution_count": 4,
   "metadata": {},
   "outputs": [
    {
     "data": {
      "text/html": [
       "<pre style=\"white-space:pre;overflow-x:auto;line-height:normal;font-family:Menlo,'DejaVu Sans Mono',consolas,'Courier New',monospace\"><span style=\"font-weight: bold\">[</span><span style=\"color: #008000; text-decoration-color: #008000\">'你好，世界！'</span>, <span style=\"color: #008000; text-decoration-color: #008000\">'你好嗎？'</span><span style=\"font-weight: bold\">]</span>\n",
       "</pre>\n"
      ],
      "text/plain": [
       "\u001b[1m[\u001b[0m\u001b[32m'你好，世界！'\u001b[0m, \u001b[32m'你好嗎？'\u001b[0m\u001b[1m]\u001b[0m\n"
      ]
     },
     "metadata": {},
     "output_type": "display_data"
    }
   ],
   "source": [
    "import asyncio\n",
    "from typing import Iterable\n",
    "\n",
    "\n",
    "@openai_prompt(\n",
    "    (\"system\", \"You are a helpful assistant.\"),\n",
    "    (\"user\", \"Summary the given text in specific language.\"),\n",
    "    (\"user\", \"Text: {text}\"),\n",
    "    (\"user\", \"Language: {language}\"),\n",
    ")\n",
    "async def atranslate_text(text: str, language: str) -> str: ...\n",
    "\n",
    "\n",
    "async def translate_text_batch(texts: Iterable[str], language: str) -> Iterable[str]:\n",
    "    tasks = []\n",
    "    for text in texts:\n",
    "        task = asyncio.create_task(atranslate_text(text=text, language=language))\n",
    "        tasks.append(task)\n",
    "\n",
    "    return await asyncio.gather(*tasks)\n",
    "\n",
    "\n",
    "results = await translate_text_batch(\n",
    "    [\"Hello, World!\", \"How are you?\"],\n",
    "    language=\"Traditional Chinese 繁體中文口語化\",\n",
    ")\n",
    "print(results)"
   ]
  },
  {
   "cell_type": "code",
   "execution_count": 5,
   "metadata": {},
   "outputs": [
    {
     "data": {
      "text/plain": [
       "TranslationResult(text='Hello, World!', translation='Traditional Chinese 繁體中文口語化')"
      ]
     },
     "execution_count": 5,
     "metadata": {},
     "output_type": "execute_result"
    }
   ],
   "source": [
    "from pydantic import BaseModel\n",
    "\n",
    "class TranslationResult(BaseModel):\n",
    "    text: str\n",
    "    translation: str\n",
    "    \n",
    "@openai_prompt(\n",
    "    (\"system\", \"You are a helpful assistant.\"),\n",
    "    (\"user\", \"Translate the given text to specific language.\"),\n",
    "    (\"user\", \"Text: {text}\"),\n",
    "    (\"user\", \"Language: {language}\"),\n",
    "    response_format=TranslationResult,\n",
    ")\n",
    "def translate_text(text: str, language: str) -> TranslationResult: ...\n",
    "\n",
    "translate_text(text=\"Hello, World!\", language=\"Traditional Chinese 繁體中文口語化\")"
   ]
  },
  {
   "cell_type": "code",
   "execution_count": 6,
   "metadata": {},
   "outputs": [
    {
     "data": {
      "text/html": [
       "<pre style=\"white-space:pre;overflow-x:auto;line-height:normal;font-family:Menlo,'DejaVu Sans Mono',consolas,'Courier New',monospace\"><span style=\"font-weight: bold\">[</span>\n",
       "    <span style=\"color: #800080; text-decoration-color: #800080; font-weight: bold\">TranslationResult</span><span style=\"font-weight: bold\">(</span><span style=\"color: #808000; text-decoration-color: #808000\">text</span>=<span style=\"color: #008000; text-decoration-color: #008000\">'Hello, World!'</span>, <span style=\"color: #808000; text-decoration-color: #808000\">translation</span>=<span style=\"color: #008000; text-decoration-color: #008000\">'Traditional Chinese 繁體中文口語化'</span><span style=\"font-weight: bold\">)</span>,\n",
       "    <span style=\"color: #800080; text-decoration-color: #800080; font-weight: bold\">TranslationResult</span><span style=\"font-weight: bold\">(</span><span style=\"color: #808000; text-decoration-color: #808000\">text</span>=<span style=\"color: #008000; text-decoration-color: #008000\">'How are you?'</span>, <span style=\"color: #808000; text-decoration-color: #808000\">translation</span>=<span style=\"color: #008000; text-decoration-color: #008000\">'Traditional Chinese 繁體中文口語化'</span><span style=\"font-weight: bold\">)</span>\n",
       "<span style=\"font-weight: bold\">]</span>\n",
       "</pre>\n"
      ],
      "text/plain": [
       "\u001b[1m[\u001b[0m\n",
       "    \u001b[1;35mTranslationResult\u001b[0m\u001b[1m(\u001b[0m\u001b[33mtext\u001b[0m=\u001b[32m'Hello, World!'\u001b[0m, \u001b[33mtranslation\u001b[0m=\u001b[32m'Traditional Chinese 繁體中文口語化'\u001b[0m\u001b[1m)\u001b[0m,\n",
       "    \u001b[1;35mTranslationResult\u001b[0m\u001b[1m(\u001b[0m\u001b[33mtext\u001b[0m=\u001b[32m'How are you?'\u001b[0m, \u001b[33mtranslation\u001b[0m=\u001b[32m'Traditional Chinese 繁體中文口語化'\u001b[0m\u001b[1m)\u001b[0m\n",
       "\u001b[1m]\u001b[0m\n"
      ]
     },
     "metadata": {},
     "output_type": "display_data"
    }
   ],
   "source": [
    "import asyncio\n",
    "from typing import Iterable\n",
    "from pydantic import BaseModel\n",
    "\n",
    "\n",
    "class TranslationResult(BaseModel):\n",
    "    text: str\n",
    "    translation: str\n",
    "\n",
    "\n",
    "@openai_prompt(\n",
    "    (\"system\", \"You are a helpful assistant.\"),\n",
    "    (\"user\", \"Summary the given text in specific language.\"),\n",
    "    (\"user\", \"Text: {text}\"),\n",
    "    (\"user\", \"Language: {language}\"),\n",
    "    response_format=TranslationResult,\n",
    ")\n",
    "async def atranslate_text(text: str, language: str) -> str: ...\n",
    "\n",
    "\n",
    "async def translate_text_batch(texts: Iterable[str], language: str) -> Iterable[str]:\n",
    "    tasks = []\n",
    "    for text in texts:\n",
    "        task = asyncio.create_task(atranslate_text(text=text, language=language))\n",
    "        tasks.append(task)\n",
    "\n",
    "    return await asyncio.gather(*tasks)\n",
    "\n",
    "\n",
    "results = await translate_text_batch(\n",
    "    [\"Hello, World!\", \"How are you?\"],\n",
    "    language=\"Traditional Chinese 繁體中文口語化\",\n",
    ")\n",
    "print(results)"
   ]
  }
 ],
 "metadata": {
  "kernelspec": {
   "display_name": ".venv",
   "language": "python",
   "name": "python3"
  },
  "language_info": {
   "codemirror_mode": {
    "name": "ipython",
    "version": 3
   },
   "file_extension": ".py",
   "mimetype": "text/x-python",
   "name": "python",
   "nbconvert_exporter": "python",
   "pygments_lexer": "ipython3",
   "version": "3.12.3"
  }
 },
 "nbformat": 4,
 "nbformat_minor": 2
}
